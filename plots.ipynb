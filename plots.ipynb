{
 "cells": [
  {
   "cell_type": "markdown",
   "metadata": {},
   "source": [
    "### 1. Import the necessary libraries and initialize the data"
   ]
  },
  {
   "cell_type": "code",
   "execution_count": null,
   "metadata": {},
   "outputs": [],
   "source": [
    "from featureSelectionNN import forward_selection, backward_elimination, leave_one_out_validator, nearest_neighbors\n",
    "import matplotlib.pyplot as plt\n",
    "\n",
    "from sklearn.preprocessing import MinMaxScaler\n",
    "import numpy as np\n",
    "\n",
    "data = np.loadtxt(\"./content/custom-small-test-dataset.txt\")\n",
    "columns_to_normalize = [1, 2, 3, 4, 5, 6, 7, 8, 9, 10]\n",
    "scaler = MinMaxScaler()\n",
    "data[:, columns_to_normalize] = scaler.fit_transform(data[:, columns_to_normalize])\n",
    "num_features = data.shape[1] - 1"
   ]
  },
  {
   "cell_type": "code",
   "execution_count": null,
   "metadata": {},
   "outputs": [],
   "source": [
    "fig, ax = plt.subplots(3, 3, figsize=(15, 15))\n",
    "fig.suptitle(\"Feature vs Class Scatter Plots for Custom Large Test Dataset\")\n",
    "for i in range(9): \n",
    "    scatter = ax[i // 3, i % 3].scatter(data[:, i + 1], data[:, 0], c=data[:, 0])\n",
    "    ax[i // 3, i % 3].set_xlabel(f\"Feature {i + 1}\")\n",
    "    ax[i // 3, i % 3].set_ylabel(\"Class\")\n",
    "    ax[i // 3, i % 3].set_title(f\"Feature {i + 1} vs Class\")\n"
   ]
  },
  {
   "cell_type": "markdown",
   "metadata": {},
   "source": [
    "### 2. Run forward selection from k=1...n neighbors and store the accuracies"
   ]
  },
  {
   "cell_type": "code",
   "execution_count": null,
   "metadata": {},
   "outputs": [],
   "source": [
    "k = 10\n",
    "accuracies = []\n",
    "for i in range(1, k):\n",
    "    accuracy = forward_selection(num_features, data, i)\n",
    "    accuracies.append(accuracy)"
   ]
  },
  {
   "cell_type": "markdown",
   "metadata": {},
   "source": [
    "### 3. Plot the accuracies and find the best k"
   ]
  },
  {
   "cell_type": "code",
   "execution_count": null,
   "metadata": {},
   "outputs": [],
   "source": [
    "plt.plot(range(1, k), accuracies)\n",
    "plt.xlabel(\"K nearest neighbors\")\n",
    "plt.ylabel(\"Accuracy\")\n",
    "plt.title(\"Forward selection accuracy vs k nearest neighbors\")\n",
    "plt.show()"
   ]
  },
  {
   "cell_type": "code",
   "execution_count": 8,
   "metadata": {},
   "outputs": [
    {
     "name": "stdout",
     "output_type": "stream",
     "text": [
      "No feature selection accuracy: 0.74\n",
      "\n",
      "Beginning Search\n",
      "Using Features[1], accuracy is 0.7300\n",
      "Using Features[2], accuracy is 0.7700\n",
      "Using Features[3], accuracy is 0.8800\n",
      "Using Features[4], accuracy is 0.7600\n",
      "Using Features[5], accuracy is 0.7800\n",
      "Using Features[6], accuracy is 0.7900\n",
      "Using Features[7], accuracy is 0.7800\n",
      "Using Features[8], accuracy is 0.7200\n",
      "Using Features[9], accuracy is 0.7500\n",
      "Using Features[10], accuracy is 0.7400\n",
      "Feature set [3] was best, accuracy is 0.8800\n",
      "Using Features[3, 1], accuracy is 0.8700\n",
      "Using Features[3, 2], accuracy is 0.8000\n",
      "Using Features[3, 4], accuracy is 0.8600\n",
      "Using Features[3, 5], accuracy is 0.9500\n",
      "Using Features[3, 6], accuracy is 0.8300\n",
      "Using Features[3, 7], accuracy is 0.9000\n",
      "Using Features[3, 8], accuracy is 0.8600\n",
      "Using Features[3, 9], accuracy is 0.7600\n",
      "Using Features[3, 10], accuracy is 0.8900\n",
      "Feature set [3, 5] was best, accuracy is 0.9500\n",
      "Using Features[3, 5, 1], accuracy is 0.8700\n",
      "Using Features[3, 5, 2], accuracy is 0.8400\n",
      "Using Features[3, 5, 4], accuracy is 0.8600\n",
      "Using Features[3, 5, 6], accuracy is 0.8600\n",
      "Using Features[3, 5, 7], accuracy is 0.9000\n",
      "Using Features[3, 5, 8], accuracy is 0.8500\n",
      "Using Features[3, 5, 9], accuracy is 0.7700\n",
      "Using Features[3, 5, 10], accuracy is 0.9200\n",
      "Finished search!!! the best feature subset is [3, 5], which has an accuracy of 0.9500\n",
      "\n",
      "\n",
      "Beginning Search\n",
      "Using Features[1, 2, 3, 4, 5, 6, 7, 8, 9, 10], accuracy is 0.2077\n",
      "Using Features[2, 3, 4, 5, 6, 7, 8, 9, 10], accuracy is 0.6700\n",
      "Using Features[1, 3, 4, 5, 6, 7, 8, 9, 10], accuracy is 0.7500\n",
      "Using Features[1, 2, 4, 5, 6, 7, 8, 9, 10], accuracy is 0.7100\n",
      "Using Features[1, 2, 3, 5, 6, 7, 8, 9, 10], accuracy is 0.7800\n",
      "Using Features[1, 2, 3, 4, 6, 7, 8, 9, 10], accuracy is 0.7500\n",
      "Using Features[1, 2, 3, 4, 5, 7, 8, 9, 10], accuracy is 0.7800\n",
      "Using Features[1, 2, 3, 4, 5, 6, 8, 9, 10], accuracy is 0.7600\n",
      "Using Features[1, 2, 3, 4, 5, 6, 7, 9, 10], accuracy is 0.7500\n",
      "Using Features[1, 2, 3, 4, 5, 6, 7, 8, 10], accuracy is 0.7400\n",
      "Using Features[1, 2, 3, 4, 5, 6, 7, 8, 9], accuracy is 0.7800\n",
      "Feature set [1, 2, 3, 5, 6, 7, 8, 9, 10] was best, accuracy is 0.7800\n",
      "Using Features[2, 3, 5, 6, 7, 8, 9, 10], accuracy is 0.7200\n",
      "Using Features[1, 3, 5, 6, 7, 8, 9, 10], accuracy is 0.7600\n",
      "Using Features[1, 2, 5, 6, 7, 8, 9, 10], accuracy is 0.7500\n",
      "Using Features[1, 2, 3, 6, 7, 8, 9, 10], accuracy is 0.8000\n",
      "Using Features[1, 2, 3, 5, 7, 8, 9, 10], accuracy is 0.8100\n",
      "Using Features[1, 2, 3, 5, 6, 8, 9, 10], accuracy is 0.7500\n",
      "Using Features[1, 2, 3, 5, 6, 7, 9, 10], accuracy is 0.7600\n",
      "Using Features[1, 2, 3, 5, 6, 7, 8, 10], accuracy is 0.7900\n",
      "Using Features[1, 2, 3, 5, 6, 7, 8, 9], accuracy is 0.8400\n",
      "Feature set [1, 2, 3, 5, 6, 7, 8, 9] was best, accuracy is 0.8400\n",
      "Using Features[2, 3, 5, 6, 7, 8, 9], accuracy is 0.7800\n",
      "Using Features[1, 3, 5, 6, 7, 8, 9], accuracy is 0.7800\n",
      "Using Features[1, 2, 5, 6, 7, 8, 9], accuracy is 0.7300\n",
      "Using Features[1, 2, 3, 6, 7, 8, 9], accuracy is 0.8100\n",
      "Using Features[1, 2, 3, 5, 7, 8, 9], accuracy is 0.8100\n",
      "Using Features[1, 2, 3, 5, 6, 8, 9], accuracy is 0.8300\n",
      "Using Features[1, 2, 3, 5, 6, 7, 9], accuracy is 0.8400\n",
      "Using Features[1, 2, 3, 5, 6, 7, 8], accuracy is 0.8200\n",
      "Finished search!!! the best feature subset is [1, 2, 3, 5, 6, 7, 8, 9], which has an accuracy of 0.8400\n",
      "\n",
      "Forward selection accuracy: 0.95\n",
      "Backward elimination accuracy: 0.84\n"
     ]
    }
   ],
   "source": [
    "# Experiment 1: Comparing Forward Selection vs Backward Elimination.\n",
    "# <do this experiment for sure>\n",
    "# Compare accuracy with no feature selection vs with feature selection.\n",
    "# Compare feature set and accuracy for forward selection vs backward elimination.\n",
    "\n",
    "\n",
    "# Accuracy with no feature selection (pass all features to validator)\n",
    "no_feature_selection_accuracy = leave_one_out_validator(data, nearest_neighbors, num_features, 1)\n",
    "print(f\"No feature selection accuracy: {no_feature_selection_accuracy}\")\n",
    "\n",
    "forward_selection_accuracy = forward_selection(num_features, data)\n",
    "backward_elimination_accuracy = backward_elimination(num_features, data)\n",
    "print(f\"Forward selection accuracy: {forward_selection_accuracy}\")\n",
    "print(f\"Backward elimination accuracy: {backward_elimination_accuracy}\")\n",
    "\n",
    "# plot bar graph of accuracies\n",
    "fig, ax = plt.subplots()\n",
    "ax.bar([\"No feature selection\", \"Forward selection\", \"Backward elimination\"], [no_feature_selection_accuracy, forward_selection_accuracy, backward_elimination_accuracy])\n",
    "ax.set_xlabel(\"Feature Selection Method\")\n",
    "ax.set_ylabel(\"Accuracy\")\n",
    "ax.set_title(\"Accuracy vs Feature Selection Method\")\n",
    "plt.show()"
   ]
  }
 ],
 "metadata": {
  "kernelspec": {
   "display_name": "env",
   "language": "python",
   "name": "python3"
  },
  "language_info": {
   "codemirror_mode": {
    "name": "ipython",
    "version": 3
   },
   "file_extension": ".py",
   "mimetype": "text/x-python",
   "name": "python",
   "nbconvert_exporter": "python",
   "pygments_lexer": "ipython3",
   "version": "3.10.0rc1"
  }
 },
 "nbformat": 4,
 "nbformat_minor": 2
}
